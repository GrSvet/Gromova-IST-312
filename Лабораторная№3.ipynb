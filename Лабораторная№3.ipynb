{
  "nbformat": 4,
  "nbformat_minor": 0,
  "metadata": {
    "colab": {
      "provenance": [],
      "collapsed_sections": [],
      "authorship_tag": "ABX9TyM2TjGZLj3+O3C7NTc9toTQ",
      "include_colab_link": true
    },
    "kernelspec": {
      "name": "python3",
      "display_name": "Python 3"
    },
    "language_info": {
      "name": "python"
    }
  },
  "cells": [
    {
      "cell_type": "markdown",
      "metadata": {
        "id": "view-in-github",
        "colab_type": "text"
      },
      "source": [
        "<a href=\"https://colab.research.google.com/github/GrSvet/Gromova-IST-312/blob/main/%D0%9B%D0%B0%D0%B1%D0%BE%D1%80%D0%B0%D1%82%D0%BE%D1%80%D0%BD%D0%B0%D1%8F%E2%84%963.ipynb\" target=\"_parent\"><img src=\"https://colab.research.google.com/assets/colab-badge.svg\" alt=\"Open In Colab\"/></a>"
      ]
    },
    {
      "cell_type": "code",
      "execution_count": null,
      "metadata": {
        "colab": {
          "base_uri": "https://localhost:8080/"
        },
        "id": "NXX2NhVszX2M",
        "outputId": "98f5f35f-8a14-4682-9cfa-d18d1ef4b8ab"
      },
      "outputs": [
        {
          "output_type": "stream",
          "name": "stdout",
          "text": [
            "12\n",
            "Декабрь\n"
          ]
        }
      ],
      "source": [
        "a = int(input())\n",
        "if a == 1:\n",
        "  print('Январь')\n",
        "if a == 2:\n",
        "  print('Февраль')\n",
        "if a == 3:\n",
        "  print('Март')\n",
        "if a == 4:\n",
        "  print('Апрель')\n",
        "if a == 5:\n",
        "  print('Май')\n",
        "if a == 6:\n",
        "  print('Июнь')\n",
        "if a == 7:\n",
        "  print('Июль')\n",
        "if a == 8:\n",
        "  print('Август')\n",
        "if a == 9:\n",
        "  print('Сентябрь')\n",
        "if a == 10:\n",
        "  print('Октябь')\n",
        "if a == 11:\n",
        "  print('Ноябрь')\n",
        "if a == 12:\n",
        "  print('Декабрь')"
      ]
    },
    {
      "cell_type": "code",
      "source": [
        "a = float(input())\n",
        "b = float(input())\n",
        "if a * 3.6 > b or b in float (range((-138/2) ** 1.3, abs((-69/28 ** 5.1) * 4))):\n",
        "  c = a\n",
        "  a = b\n",
        "  b = c\n",
        "  print(a, b) \n",
        "else:\n",
        "  print(a, b)"
      ],
      "metadata": {
        "colab": {
          "base_uri": "https://localhost:8080/"
        },
        "id": "GwEXw2PkyzWh",
        "outputId": "cf30e3bd-ef3d-4e6b-d19c-0596c7e2fd69"
      },
      "execution_count": null,
      "outputs": [
        {
          "output_type": "stream",
          "name": "stdout",
          "text": [
            "14\n",
            "2\n",
            "2.0 14.0\n"
          ]
        }
      ]
    },
    {
      "cell_type": "code",
      "source": [
        "otr = 0\n",
        "ch = 0\n",
        "a = 0  \n",
        "a1 = int(input())\n",
        "a2 = int(input())\n",
        "a3 = int(input())\n",
        "a4 = int(input())\n",
        "a5 = int(input())\n",
        "if a1 < 0:\n",
        "    otr += 1\n",
        "if a1 % 2 == 0:\n",
        "  ch += 1\n",
        "if a1 >= -256 and a1 <= 1024:\n",
        "  a += 1\n",
        "if a2 < 0:\n",
        "    otr += 1\n",
        "if a2 % 2 == 0:\n",
        "  ch += 1\n",
        "if a2 >= -256 and a2 <= 1024:\n",
        "  a += 1\n",
        "if a3 < 0:\n",
        "    otr += 1\n",
        "if a3 % 2 == 0:\n",
        "  ch += 1\n",
        "if a3 >= -256 and a3 <= 1024:\n",
        "  a += 1\n",
        "if a4 < 0:\n",
        "    otr += 1\n",
        "if a4 % 2 == 0:\n",
        "  ch += 1\n",
        "if a4 >= -256 and a4 <= 1024:\n",
        "  a += 1\n",
        "if a5 < 0:\n",
        "    otr += 1\n",
        "if a5 % 2 == 0:\n",
        "  ch += 1\n",
        "if a5 >= -256 and a5 <= 1024:\n",
        "  a += 1\n",
        "print('Отрицательных чисел:', otr, 'Четных чисел:', ch, 'Числа принадлежащие промежутку:', a)"
      ],
      "metadata": {
        "colab": {
          "base_uri": "https://localhost:8080/"
        },
        "id": "OkSHIouK0IR3",
        "outputId": "1100bf58-a41c-4f2c-e1ab-e5b8c62b2225"
      },
      "execution_count": null,
      "outputs": [
        {
          "output_type": "stream",
          "name": "stdout",
          "text": [
            "34\n",
            "0\n",
            "-125\n",
            "8357\n",
            "-4\n",
            "Отрицательных чисел: 2 Четных чисел: 3 Числа принадлежащие промежутку: 4\n"
          ]
        }
      ]
    },
    {
      "cell_type": "code",
      "source": [
        "a = int(input())\n",
        "b = int(input())\n",
        "c = int(input())\n",
        "d = ((a ** 2 + b ** 3)/(c + 3))/4\n",
        "if d % 2 == 0:\n",
        "  print(d, 'Четное')\n",
        "else:\n",
        "  print(d, 'Нечетное')"
      ],
      "metadata": {
        "colab": {
          "base_uri": "https://localhost:8080/"
        },
        "id": "21C5xNf6Hogh",
        "outputId": "75efacf9-8d99-4d17-b540-21394d025d85"
      },
      "execution_count": null,
      "outputs": [
        {
          "output_type": "stream",
          "name": "stdout",
          "text": [
            "4\n",
            "8\n",
            "8\n",
            "12.0 Четное\n"
          ]
        }
      ]
    },
    {
      "cell_type": "code",
      "source": [
        "a = int(input())\n",
        "if a % 2 == 0:\n",
        "  print('Чётное')\n",
        "else:\n",
        "  print('Нечётное')"
      ],
      "metadata": {
        "colab": {
          "base_uri": "https://localhost:8080/"
        },
        "id": "yNenatRy0sGB",
        "outputId": "60a9816d-30bc-4185-a4ef-12f70dc15e6f"
      },
      "execution_count": null,
      "outputs": [
        {
          "output_type": "stream",
          "name": "stdout",
          "text": [
            "837\n",
            "Нечётное\n"
          ]
        }
      ]
    },
    {
      "cell_type": "code",
      "source": [
        "n = int(input())\n",
        "if n > 40:\n",
        "  print('stonks')\n",
        "else:\n",
        "  print('not stonks')"
      ],
      "metadata": {
        "colab": {
          "base_uri": "https://localhost:8080/"
        },
        "id": "xdA745zu1YmB",
        "outputId": "687f1027-8cdc-4b30-94b4-eea33e254097"
      },
      "execution_count": null,
      "outputs": [
        {
          "output_type": "stream",
          "name": "stdout",
          "text": [
            "40\n",
            "not stonks\n"
          ]
        }
      ]
    },
    {
      "cell_type": "code",
      "source": [
        "year = int(input())\n",
        "if year % 4 != 0:\n",
        "  print('False')\n",
        "else: \n",
        "  print('True')"
      ],
      "metadata": {
        "colab": {
          "base_uri": "https://localhost:8080/"
        },
        "id": "1wdRux6Y2GEZ",
        "outputId": "cecb096e-0a6f-48ba-ff82-2db3a82919a2"
      },
      "execution_count": null,
      "outputs": [
        {
          "output_type": "stream",
          "name": "stdout",
          "text": [
            "2022\n",
            "False\n"
          ]
        }
      ]
    },
    {
      "cell_type": "code",
      "source": [
        "n = int(input())\n",
        "if n > 1:\n",
        "  for i in range(2, n):\n",
        "      if n % i == 0:\n",
        "        print('False')\n",
        "        break\n",
        "  else:\n",
        "    print(True)"
      ],
      "metadata": {
        "colab": {
          "base_uri": "https://localhost:8080/"
        },
        "id": "rzpMcxxe4t7Z",
        "outputId": "1e1b6d7e-6d15-432f-bd86-eb77dea30b75"
      },
      "execution_count": null,
      "outputs": [
        {
          "output_type": "stream",
          "name": "stdout",
          "text": [
            "12\n",
            "False\n"
          ]
        }
      ]
    },
    {
      "cell_type": "code",
      "source": [
        "a, b, c, d, e = int(input()), int(input()), int(input()), int(input()), int(input())\n",
        "count = 0\n",
        "otr = 0\n",
        "5\n",
        "print('Чётных чисел:', count)\n",
        "\n",
        "print('Отрицательных чисел:', otr) "
      ],
      "metadata": {
        "id": "xGi9q69UC7Jd"
      },
      "execution_count": null,
      "outputs": []
    }
  ]
}